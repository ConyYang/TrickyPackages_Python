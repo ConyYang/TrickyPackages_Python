{
 "cells": [
  {
   "cell_type": "markdown",
   "metadata": {
    "collapsed": true,
    "pycharm": {
     "is_executing": false,
     "name": "#%% md\n"
    }
   },
   "source": [
    "### 1. Older methods\n",
    "- os.system <br>\n",
    "Execute the command (a string) in a subshell.\n",
    "On Unix, the return value is the exit status of the process.\n",
    "On Windows, the return value is that returned by the system shell after running command.\n",
    "\n",
    "- os.popen <br>\n",
    "Open a pipe to or from command being executed.\n",
    "The return value is an open file object connected to the pipe, which can be read or written depending on whether mode is 'r' (default) or 'w'.\n",
    "The close method returns None if the subprocess exited successfully, or the subprocess’s return code if there was an error.\n",
    "\n",
    "- os.spawn* <br>\n",
    "Execute the program path in a new process.\n",
    "If mode is P_NOWAIT, this function returns the process id of the new process.\n",
    "If mode is P_WAIT, returns the process’s exit code if it exits normally, or -signal, where signal is the signal that killed the process."
   ]
  },
  {
   "cell_type": "code",
   "execution_count": 2,
   "outputs": [],
   "source": [
    "import os"
   ],
   "metadata": {
    "collapsed": false,
    "pycharm": {
     "name": "#%%\n",
     "is_executing": false
    }
   }
  },
  {
   "cell_type": "code",
   "execution_count": 3,
   "outputs": [
    {
     "data": {
      "text/plain": "0"
     },
     "metadata": {},
     "output_type": "execute_result",
     "execution_count": 3
    }
   ],
   "source": [
    "os.system(\"ls\")"
   ],
   "metadata": {
    "collapsed": false,
    "pycharm": {
     "name": "#%%\n",
     "is_executing": false
    }
   }
  },
  {
   "cell_type": "code",
   "execution_count": 4,
   "outputs": [
    {
     "name": "stdout",
     "text": [
      "ShellCommand.ipynb\r\n"
     ],
     "output_type": "stream"
    }
   ],
   "source": [
    "!ls"
   ],
   "metadata": {
    "collapsed": false,
    "pycharm": {
     "name": "#%%\n",
     "is_executing": false
    }
   }
  },
  {
   "cell_type": "code",
   "execution_count": 6,
   "outputs": [
    {
     "data": {
      "text/plain": "256"
     },
     "metadata": {},
     "output_type": "execute_result",
     "execution_count": 6
    }
   ],
   "source": [
    "# 256 is the status code which means this cmd doesn't run successfully\n",
    "os.system(\"rm xyz\")\n"
   ],
   "metadata": {
    "collapsed": false,
    "pycharm": {
     "name": "#%%\n",
     "is_executing": false
    }
   }
  },
  {
   "cell_type": "code",
   "execution_count": 8,
   "outputs": [
    {
     "data": {
      "text/plain": "0"
     },
     "metadata": {},
     "output_type": "execute_result",
     "execution_count": 8
    }
   ],
   "source": [
    "os.system(\"rm test.txt\")\n"
   ],
   "metadata": {
    "collapsed": false,
    "pycharm": {
     "name": "#%%\n",
     "is_executing": false
    }
   }
  },
  {
   "cell_type": "code",
   "execution_count": 9,
   "outputs": [
    {
     "name": "stdout",
     "text": [
      "ShellCommand.ipynb\r\n"
     ],
     "output_type": "stream"
    }
   ],
   "source": [
    "!ls"
   ],
   "metadata": {
    "collapsed": false,
    "pycharm": {
     "name": "#%%\n",
     "is_executing": false
    }
   }
  },
  {
   "cell_type": "code",
   "execution_count": 11,
   "outputs": [
    {
     "name": "stdout",
     "text": [
      "ShellCommand.ipynb\n",
      "\n"
     ],
     "output_type": "stream"
    }
   ],
   "source": [
    "print(os.popen(\"ls\").read())"
   ],
   "metadata": {
    "collapsed": false,
    "pycharm": {
     "name": "#%%\n",
     "is_executing": false
    }
   }
  },
  {
   "cell_type": "code",
   "execution_count": 13,
   "outputs": [
    {
     "data": {
      "text/plain": "2965"
     },
     "metadata": {},
     "output_type": "execute_result",
     "execution_count": 13
    }
   ],
   "source": [
    "# return the process id\n",
    "os.spawnl(os.P_NOWAIT, \"/usr/sh\", \"ls\")"
   ],
   "metadata": {
    "collapsed": false,
    "pycharm": {
     "name": "#%%\n",
     "is_executing": false
    }
   }
  },
  {
   "cell_type": "markdown",
   "source": [
    "### 2. subprocess module\n",
    "Provides more powerful ways to manage and communicate with subprocesses.\n",
    "\n",
    "Main API<br>\n",
    "run(...)I<br>\n",
    "Runs a command, waits for it to complete, then returns a CompletedProcess instance. (added in Python 3.5)\n",
    "Popen(...)I<br>\n",
    "A class for flexibly executing a command in a new process\n",
    "Older API (prior to Python 3.5)I<br>\n",
    "call(...)I<br>\n",
    "Runs a command, waits for it to complete, then returns the return code.I<br>\n",
    "check_call(...)I<br>\n",
    "Same as call() but raises CalledProcessError() if return code is not 0\n",
    "check_output(...)I<br>\n",
    "Same as check_call() but returns the contents of stdout instead of a return code\n",
    "getoutput(...)I<br>\n",
    "Runs a command in the shell, waits for it to complete, then returns the output\n",
    "getstatusoutput(...)I<br>\n",
    "Runs a command in the shell, waits for it to complete, then returns a (exitcode, output) tupleI<br>"
   ],
   "metadata": {
    "collapsed": false,
    "pycharm": {
     "name": "#%% md\n"
    }
   }
  },
  {
   "cell_type": "markdown",
   "source": [
    "1. Run command"
   ],
   "metadata": {
    "collapsed": false,
    "pycharm": {
     "name": "#%% md\n"
    }
   }
  },
  {
   "cell_type": "code",
   "execution_count": 14,
   "outputs": [],
   "source": [
    "import subprocess"
   ],
   "metadata": {
    "collapsed": false,
    "pycharm": {
     "name": "#%%\n",
     "is_executing": false
    }
   }
  },
  {
   "cell_type": "code",
   "execution_count": 16,
   "outputs": [
    {
     "data": {
      "text/plain": "CompletedProcess(args='ls', returncode=0)"
     },
     "metadata": {},
     "output_type": "execute_result",
     "execution_count": 16
    }
   ],
   "source": [
    "subprocess.run(\"ls\")\n"
   ],
   "metadata": {
    "collapsed": false,
    "pycharm": {
     "name": "#%%\n",
     "is_executing": false
    }
   }
  },
  {
   "cell_type": "code",
   "execution_count": 17,
   "outputs": [
    {
     "name": "stdout",
     "text": [
      "ShellCommand.ipynb test.py\r\n"
     ],
     "output_type": "stream"
    }
   ],
   "source": [
    "!ls"
   ],
   "metadata": {
    "collapsed": false,
    "pycharm": {
     "name": "#%%\n",
     "is_executing": false
    }
   }
  },
  {
   "cell_type": "code",
   "execution_count": 18,
   "outputs": [
    {
     "data": {
      "text/plain": "CompletedProcess(args=['python3', 'test.py'], returncode=0)"
     },
     "metadata": {},
     "output_type": "execute_result",
     "execution_count": 18
    }
   ],
   "source": [
    "subprocess.run([\"python3\",\"test.py\"])\n",
    "\n"
   ],
   "metadata": {
    "collapsed": false,
    "pycharm": {
     "name": "#%%\n",
     "is_executing": false
    }
   }
  },
  {
   "cell_type": "markdown",
   "source": [
    "2. run command and read output\n",
    "Prior to Python 3.7\n",
    "subprocess.PIPE opens a pipe to the standard stream.\n",
    "\n",
    "stdout=subprocess.PIPE\n",
    "stderr=subprocess.PIPE\n",
    "stderr=subprocess.STDOUT"
   ],
   "metadata": {
    "collapsed": false,
    "pycharm": {
     "name": "#%% md\n"
    }
   }
  },
  {
   "cell_type": "code",
   "execution_count": 20,
   "outputs": [],
   "source": [
    "result = subprocess.run(\"ls\", stdout=subprocess.PIPE)"
   ],
   "metadata": {
    "collapsed": false,
    "pycharm": {
     "name": "#%%\n",
     "is_executing": false
    }
   }
  },
  {
   "cell_type": "code",
   "execution_count": 21,
   "outputs": [
    {
     "name": "stdout",
     "text": [
      "ShellCommand.ipynb\n",
      "test.py\n",
      "\n"
     ],
     "output_type": "stream"
    }
   ],
   "source": [
    "print(result.stdout.decode())"
   ],
   "metadata": {
    "collapsed": false,
    "pycharm": {
     "name": "#%%\n",
     "is_executing": false
    }
   }
  },
  {
   "cell_type": "code",
   "execution_count": 23,
   "outputs": [],
   "source": [
    "result = subprocess.run([\"python3\",\"test.py\"], stdout=subprocess.PIPE)\n"
   ],
   "metadata": {
    "collapsed": false,
    "pycharm": {
     "name": "#%%\n",
     "is_executing": false
    }
   }
  },
  {
   "cell_type": "code",
   "execution_count": 24,
   "outputs": [
    {
     "name": "stdout",
     "text": [
      "Hello world!\n",
      "\n"
     ],
     "output_type": "stream"
    }
   ],
   "source": [
    "print(result.stdout.decode())"
   ],
   "metadata": {
    "collapsed": false,
    "pycharm": {
     "name": "#%%\n",
     "is_executing": false
    }
   }
  },
  {
   "cell_type": "markdown",
   "source": [
    "Since Python 3.7¶\n",
    "If capture_output is true, stdout and stderr will be automatically captured.\n",
    "\n",
    "stdout=PIPE and stderr=PIPE is set automatically"
   ],
   "metadata": {
    "collapsed": false,
    "pycharm": {
     "name": "#%% md\n",
     "is_executing": false
    }
   }
  },
  {
   "cell_type": "code",
   "execution_count": null,
   "outputs": [],
   "source": [
    "\n",
    "\n"
   ],
   "metadata": {
    "collapsed": false,
    "pycharm": {
     "name": "#%%\n"
    }
   }
  }
 ],
 "metadata": {
  "kernelspec": {
   "display_name": "Python 3",
   "language": "python",
   "name": "python3"
  },
  "language_info": {
   "codemirror_mode": {
    "name": "ipython",
    "version": 2
   },
   "file_extension": ".py",
   "mimetype": "text/x-python",
   "name": "python",
   "nbconvert_exporter": "python",
   "pygments_lexer": "ipython2",
   "version": "2.7.6"
  },
  "pycharm": {
   "stem_cell": {
    "cell_type": "raw",
    "source": [],
    "metadata": {
     "collapsed": false
    }
   }
  }
 },
 "nbformat": 4,
 "nbformat_minor": 0
}